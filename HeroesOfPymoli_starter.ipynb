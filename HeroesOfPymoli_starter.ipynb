{
 "cells": [
  {
   "cell_type": "markdown",
   "metadata": {},
   "source": [
    "### Note\n",
    "* Instructions have been included for each segment. You do not have to follow them exactly, but they are included to help you think through the steps."
   ]
  },
  {
   "cell_type": "code",
   "execution_count": 1,
   "metadata": {},
   "outputs": [
    {
     "data": {
      "text/html": [
       "<div>\n",
       "<style scoped>\n",
       "    .dataframe tbody tr th:only-of-type {\n",
       "        vertical-align: middle;\n",
       "    }\n",
       "\n",
       "    .dataframe tbody tr th {\n",
       "        vertical-align: top;\n",
       "    }\n",
       "\n",
       "    .dataframe thead th {\n",
       "        text-align: right;\n",
       "    }\n",
       "</style>\n",
       "<table border=\"1\" class=\"dataframe\">\n",
       "  <thead>\n",
       "    <tr style=\"text-align: right;\">\n",
       "      <th></th>\n",
       "      <th>Purchase ID</th>\n",
       "      <th>SN</th>\n",
       "      <th>Age</th>\n",
       "      <th>Gender</th>\n",
       "      <th>Item ID</th>\n",
       "      <th>Item Name</th>\n",
       "      <th>Price</th>\n",
       "    </tr>\n",
       "  </thead>\n",
       "  <tbody>\n",
       "    <tr>\n",
       "      <td>0</td>\n",
       "      <td>0</td>\n",
       "      <td>Lisim78</td>\n",
       "      <td>20</td>\n",
       "      <td>Male</td>\n",
       "      <td>108</td>\n",
       "      <td>Extraction, Quickblade Of Trembling Hands</td>\n",
       "      <td>3.53</td>\n",
       "    </tr>\n",
       "    <tr>\n",
       "      <td>1</td>\n",
       "      <td>1</td>\n",
       "      <td>Lisovynya38</td>\n",
       "      <td>40</td>\n",
       "      <td>Male</td>\n",
       "      <td>143</td>\n",
       "      <td>Frenzied Scimitar</td>\n",
       "      <td>1.56</td>\n",
       "    </tr>\n",
       "    <tr>\n",
       "      <td>2</td>\n",
       "      <td>2</td>\n",
       "      <td>Ithergue48</td>\n",
       "      <td>24</td>\n",
       "      <td>Male</td>\n",
       "      <td>92</td>\n",
       "      <td>Final Critic</td>\n",
       "      <td>4.88</td>\n",
       "    </tr>\n",
       "    <tr>\n",
       "      <td>3</td>\n",
       "      <td>3</td>\n",
       "      <td>Chamassasya86</td>\n",
       "      <td>24</td>\n",
       "      <td>Male</td>\n",
       "      <td>100</td>\n",
       "      <td>Blindscythe</td>\n",
       "      <td>3.27</td>\n",
       "    </tr>\n",
       "    <tr>\n",
       "      <td>4</td>\n",
       "      <td>4</td>\n",
       "      <td>Iskosia90</td>\n",
       "      <td>23</td>\n",
       "      <td>Male</td>\n",
       "      <td>131</td>\n",
       "      <td>Fury</td>\n",
       "      <td>1.44</td>\n",
       "    </tr>\n",
       "  </tbody>\n",
       "</table>\n",
       "</div>"
      ],
      "text/plain": [
       "   Purchase ID             SN  Age Gender  Item ID  \\\n",
       "0            0        Lisim78   20   Male      108   \n",
       "1            1    Lisovynya38   40   Male      143   \n",
       "2            2     Ithergue48   24   Male       92   \n",
       "3            3  Chamassasya86   24   Male      100   \n",
       "4            4      Iskosia90   23   Male      131   \n",
       "\n",
       "                                   Item Name  Price  \n",
       "0  Extraction, Quickblade Of Trembling Hands   3.53  \n",
       "1                          Frenzied Scimitar   1.56  \n",
       "2                               Final Critic   4.88  \n",
       "3                                Blindscythe   3.27  \n",
       "4                                       Fury   1.44  "
      ]
     },
     "execution_count": 1,
     "metadata": {},
     "output_type": "execute_result"
    }
   ],
   "source": [
    "# Dependencies and Setup\n",
    "import pandas as pd\n",
    "\n",
    "# File to Load (Remember to Change These)\n",
    "Heroes_of_pd = \"Resources/purchase_data.csv\"\n",
    "\n",
    "# Read Purchasing File and store into Pandas data frame\n",
    "Heroes_of_pd = pd.read_csv(\"Resources/purchase_data.csv\")\n",
    "Heroes_of_pd.head()"
   ]
  },
  {
   "cell_type": "markdown",
   "metadata": {},
   "source": [
    "## Player Count"
   ]
  },
  {
   "cell_type": "markdown",
   "metadata": {},
   "source": [
    "* Display the total number of players\n"
   ]
  },
  {
   "cell_type": "markdown",
   "metadata": {},
   "source": [
    "## Purchasing Analysis (Total)"
   ]
  },
  {
   "cell_type": "code",
   "execution_count": 2,
   "metadata": {},
   "outputs": [
    {
     "data": {
      "text/plain": [
       "2379.77"
      ]
     },
     "execution_count": 2,
     "metadata": {},
     "output_type": "execute_result"
    }
   ],
   "source": [
    "Total_Player_Count_df = Heroes_of_pd.groupby(\"SN\")[\"SN\"].unique()\n",
    "Total_Players = ([{\"Total_Players\":Total_Player_Count_df.count()}])\n",
    "Total_Players \n",
    "\n",
    "item_count = len(Heroes_of_pd[\"Item ID\"].unique())\n",
    "item_count\n",
    "\n",
    "\n",
    "Average_Price = Heroes_of_pd[\"Price\"].mean()\n",
    "Average_Price\n",
    "\n",
    "Average_Age = Heroes_of_pd[\"Age\"].mean()\n",
    "Average_Age\n",
    "\n",
    "Total_Purchases = Heroes_of_pd[\"Purchase ID\"].count()\n",
    "Total_Purchases\n",
    "\n",
    "Total_Revenue = Heroes_of_pd[\"Price\"].sum()\n",
    "Total_Revenue"
   ]
  },
  {
   "cell_type": "markdown",
   "metadata": {},
   "source": [
    "* Run basic calculations to obtain number of unique items, average price, etc.\n",
    "\n",
    "\n",
    "* Create a summary data frame to hold the results\n",
    "\n",
    "\n",
    "* Optional: give the displayed data cleaner formatting\n",
    "\n",
    "\n",
    "* Display the summary data frame\n"
   ]
  },
  {
   "cell_type": "code",
   "execution_count": 3,
   "metadata": {
    "scrolled": false
   },
   "outputs": [
    {
     "data": {
      "text/html": [
       "<div>\n",
       "<style scoped>\n",
       "    .dataframe tbody tr th:only-of-type {\n",
       "        vertical-align: middle;\n",
       "    }\n",
       "\n",
       "    .dataframe tbody tr th {\n",
       "        vertical-align: top;\n",
       "    }\n",
       "\n",
       "    .dataframe thead th {\n",
       "        text-align: right;\n",
       "    }\n",
       "</style>\n",
       "<table border=\"1\" class=\"dataframe\">\n",
       "  <thead>\n",
       "    <tr style=\"text-align: right;\">\n",
       "      <th></th>\n",
       "      <th>Number of Unique Items</th>\n",
       "      <th>Average Price</th>\n",
       "      <th>Total Purchases</th>\n",
       "      <th>Total Revenue</th>\n",
       "    </tr>\n",
       "  </thead>\n",
       "  <tbody>\n",
       "    <tr>\n",
       "      <td>0</td>\n",
       "      <td>183</td>\n",
       "      <td>$3.05</td>\n",
       "      <td>780</td>\n",
       "      <td>$2,379.77</td>\n",
       "    </tr>\n",
       "  </tbody>\n",
       "</table>\n",
       "</div>"
      ],
      "text/plain": [
       "   Number of Unique Items Average Price Total Purchases Total Revenue\n",
       "0                     183         $3.05             780     $2,379.77"
      ]
     },
     "execution_count": 3,
     "metadata": {},
     "output_type": "execute_result"
    }
   ],
   "source": [
    "Purchase_Analysis_df = pd.DataFrame({\"Number of Unique Items\": [item_count],\n",
    "                                          \"Total Player Count\": [Total_Players],\n",
    "                                          \"Average Price\": [round(Average_Price, 2)],\n",
    "                                          \"Average Age\": [Average_Age],\n",
    "                                          \"Total Purchases\": [Total_Purchases],\n",
    "                                          \"Total Revenue\": [Total_Revenue]})\n",
    "\n",
    "Purchase_Analysis_df [\"Number of Unique Items\"] = Purchase_Analysis_df[\"Number of Unique Items\"]\n",
    "Purchase_Analysis_df [\"Average Price\"] = Purchase_Analysis_df[\"Average Price\"].map(\"${:,.2f}\".format)\n",
    "Purchase_Analysis_df [\"Total Purchases\"] = Purchase_Analysis_df[\"Total Purchases\"].map(\"{:,}\".format)\n",
    "Purchase_Analysis_df [\"Total Revenue\"] = Purchase_Analysis_df [\"Total Revenue\"].map(\"${:,.2f}\".format)\n",
    "Purchase_Analysis_df = Purchase_Analysis_df.loc[:,[\"Number of Unique Items\", \"Average Price\", \"Total Purchases\", \"Total Revenue\"]]\n",
    "Purchase_Analysis_df"
   ]
  },
  {
   "cell_type": "markdown",
   "metadata": {},
   "source": [
    "## Gender Demographics"
   ]
  },
  {
   "cell_type": "markdown",
   "metadata": {},
   "source": [
    "* Percentage and Count of Male Players\n",
    "\n",
    "\n",
    "* Percentage and Count of Female Players\n",
    "\n",
    "\n",
    "* Percentage and Count of Other / Non-Disclosed\n",
    "\n",
    "\n"
   ]
  },
  {
   "cell_type": "code",
   "execution_count": 4,
   "metadata": {},
   "outputs": [
    {
     "data": {
      "text/html": [
       "<div>\n",
       "<style scoped>\n",
       "    .dataframe tbody tr th:only-of-type {\n",
       "        vertical-align: middle;\n",
       "    }\n",
       "\n",
       "    .dataframe tbody tr th {\n",
       "        vertical-align: top;\n",
       "    }\n",
       "\n",
       "    .dataframe thead th {\n",
       "        text-align: right;\n",
       "    }\n",
       "</style>\n",
       "<table border=\"1\" class=\"dataframe\">\n",
       "  <thead>\n",
       "    <tr style=\"text-align: right;\">\n",
       "      <th></th>\n",
       "      <th>Percentage Of Players</th>\n",
       "      <th>Gender</th>\n",
       "      <th>Total Count</th>\n",
       "    </tr>\n",
       "  </thead>\n",
       "  <tbody>\n",
       "    <tr>\n",
       "      <td>0</td>\n",
       "      <td>83.59</td>\n",
       "      <td>Male</td>\n",
       "      <td>484</td>\n",
       "    </tr>\n",
       "    <tr>\n",
       "      <td>1</td>\n",
       "      <td>14.49</td>\n",
       "      <td>Female</td>\n",
       "      <td>81</td>\n",
       "    </tr>\n",
       "    <tr>\n",
       "      <td>2</td>\n",
       "      <td>1.92</td>\n",
       "      <td>Other/Non-Disclosed</td>\n",
       "      <td>11</td>\n",
       "    </tr>\n",
       "  </tbody>\n",
       "</table>\n",
       "</div>"
      ],
      "text/plain": [
       "   Percentage Of Players               Gender  Total Count\n",
       "0                  83.59                 Male          484\n",
       "1                  14.49               Female           81\n",
       "2                   1.92  Other/Non-Disclosed           11"
      ]
     },
     "execution_count": 4,
     "metadata": {},
     "output_type": "execute_result"
    }
   ],
   "source": [
    "male_df = Heroes_of_pd.loc[Heroes_of_pd[\"Gender\"] == \"Male\",:]\n",
    "male_count = len(male_df[\"SN\"].unique())\n",
    "percent_male = round((len(male_df)/len(Heroes_of_pd)) * 100, 2)\n",
    "\n",
    "female_df = Heroes_of_pd.loc[Heroes_of_pd[\"Gender\"] == \"Female\",:]\n",
    "female_count = len(female_df[\"SN\"].unique())\n",
    "percent_female = round((len(female_df)/len(Heroes_of_pd)) * 100, 2)\n",
    "\n",
    "others_data_df = Heroes_of_pd.loc[Heroes_of_pd[\"Gender\"] == \"Other / Non-Disclosed\",:]\n",
    "others_count = len(others_data_df[\"SN\"].unique())\n",
    "percent_others = round((len(others_data_df)/len(Heroes_of_pd)) * 100, 2)\n",
    "\n",
    "gender_demo_df = {\"Percentage Of Players\" : [percent_male, percent_female, percent_others],\n",
    "                    \"Gender\" : [\"Male\",\"Female\",\"Other/Non-Disclosed\"],\n",
    "                    \"Total Count\" : [male_count, female_count, others_count]}\n",
    "\n",
    "gender_demo_df = pd.DataFrame(gender_demo_df)\n",
    "\n",
    "gender_demo_df"
   ]
  },
  {
   "cell_type": "markdown",
   "metadata": {},
   "source": [
    "\n",
    "## Purchasing Analysis (Gender)"
   ]
  },
  {
   "cell_type": "code",
   "execution_count": 5,
   "metadata": {},
   "outputs": [
    {
     "data": {
      "text/html": [
       "<div>\n",
       "<style scoped>\n",
       "    .dataframe tbody tr th:only-of-type {\n",
       "        vertical-align: middle;\n",
       "    }\n",
       "\n",
       "    .dataframe tbody tr th {\n",
       "        vertical-align: top;\n",
       "    }\n",
       "\n",
       "    .dataframe thead th {\n",
       "        text-align: right;\n",
       "    }\n",
       "</style>\n",
       "<table border=\"1\" class=\"dataframe\">\n",
       "  <thead>\n",
       "    <tr style=\"text-align: right;\">\n",
       "      <th></th>\n",
       "      <th>Purchase Count</th>\n",
       "      <th>Average Price</th>\n",
       "      <th>Average Price per Person</th>\n",
       "      <th>Total Price</th>\n",
       "    </tr>\n",
       "    <tr>\n",
       "      <th>Gender</th>\n",
       "      <th></th>\n",
       "      <th></th>\n",
       "      <th></th>\n",
       "      <th></th>\n",
       "    </tr>\n",
       "  </thead>\n",
       "  <tbody>\n",
       "    <tr>\n",
       "      <td>Male</td>\n",
       "      <td>652</td>\n",
       "      <td>$3.02</td>\n",
       "      <td>$4.07</td>\n",
       "      <td>$1,967.64</td>\n",
       "    </tr>\n",
       "    <tr>\n",
       "      <td>Female</td>\n",
       "      <td>113</td>\n",
       "      <td>$3.20</td>\n",
       "      <td>$4.47</td>\n",
       "      <td>$361.94</td>\n",
       "    </tr>\n",
       "    <tr>\n",
       "      <td>Other</td>\n",
       "      <td>15</td>\n",
       "      <td>$3.35</td>\n",
       "      <td>$4.56</td>\n",
       "      <td>$50.19</td>\n",
       "    </tr>\n",
       "  </tbody>\n",
       "</table>\n",
       "</div>"
      ],
      "text/plain": [
       "        Purchase Count Average Price Average Price per Person Total Price\n",
       "Gender                                                                   \n",
       "Male               652         $3.02                    $4.07   $1,967.64\n",
       "Female             113         $3.20                    $4.47     $361.94\n",
       "Other               15         $3.35                    $4.56      $50.19"
      ]
     },
     "execution_count": 5,
     "metadata": {},
     "output_type": "execute_result"
    }
   ],
   "source": [
    "Male_Purchase_Count = len(male_df)\n",
    "Female_Purchase_Count = len(female_df)\n",
    "Other_Purchase_Count = len(others_data_df)\n",
    "\n",
    "Male_Average_Price = round((male_df['Price'].sum())/len(male_df['Price']),2)\n",
    "Female_Average_Price = round((female_df['Price'].sum())/len(female_df['Price']),2)\n",
    "Other_Average_Price = round((others_data_df['Price'].sum())/len(others_data_df['Price']),2)\n",
    "\n",
    "Male_Total_Price = round((male_df['Price'].sum()),2)\n",
    "Female_Total_Price = round((female_df['Price'].sum()),2)\n",
    "Other_Total_Price = round((others_data_df['Price'].sum()),2)\n",
    "\n",
    "\n",
    "Average_Price_Per_Person_Male = round((Male_Total_Price/male_count),2)\n",
    "Average_Price_Per_Person_Female = round((Female_Total_Price/female_count),2)\n",
    "Average_Price_Per_Person_Other = round((Other_Total_Price/others_count),2)\n",
    "\n",
    "\n",
    "Final_Purchase_Analysis = {'Purchase Count': [Male_Purchase_Count, Female_Purchase_Count, Other_Purchase_Count],\n",
    "                           'Gender': ['Male', 'Female', 'Other'],\n",
    "                           'Average Price': [Male_Average_Price, Female_Average_Price, Other_Average_Price],\n",
    "                           'Average Price per Person': [Average_Price_Per_Person_Male, Average_Price_Per_Person_Female, Average_Price_Per_Person_Other],\n",
    "                           'Total Price': [Male_Total_Price, Female_Total_Price, Other_Total_Price],\n",
    "                            }\n",
    "\n",
    "Final_Purchase_Analysis_df = pd.DataFrame(Final_Purchase_Analysis)\n",
    "Final_Purchase_Analysis_df = Final_Purchase_Analysis_df.set_index('Gender')\n",
    "\n",
    "\n",
    "Final_Purchase_Analysis_df['Purchase Count'] = Final_Purchase_Analysis_df['Purchase Count']\n",
    "Final_Purchase_Analysis_df['Average Price'] = Final_Purchase_Analysis_df['Average Price'].map('${:,.2f}'.format)\n",
    "Final_Purchase_Analysis_df['Average Price per Person'] = Final_Purchase_Analysis_df['Average Price per Person'].map('${:,.2f}'.format)\n",
    "Final_Purchase_Analysis_df['Total Price'] = Final_Purchase_Analysis_df['Total Price'].map('${:,.2f}'.format)\n",
    "\n",
    "Final_Purchase_Analysis_df"
   ]
  },
  {
   "cell_type": "markdown",
   "metadata": {},
   "source": [
    "* Run basic calculations to obtain purchase count, avg. purchase price, avg. purchase total per person etc. by gender\n",
    "\n",
    "\n",
    "\n",
    "\n",
    "* Create a summary data frame to hold the results\n",
    "\n",
    "\n",
    "* Optional: give the displayed data cleaner formatting\n",
    "\n",
    "\n",
    "* Display the summary data frame"
   ]
  },
  {
   "cell_type": "markdown",
   "metadata": {},
   "source": [
    "## Age Demographics"
   ]
  },
  {
   "cell_type": "markdown",
   "metadata": {},
   "source": [
    "* Establish bins for ages\n",
    "\n",
    "\n",
    "* Categorize the existing players using the age bins. Hint: use pd.cut()\n",
    "\n",
    "\n",
    "* Calculate the numbers and percentages by age group\n",
    "\n",
    "\n",
    "* Create a summary data frame to hold the results\n",
    "\n",
    "\n",
    "* Optional: round the percentage column to two decimal points\n",
    "\n",
    "\n",
    "* Display Age Demographics Table\n"
   ]
  },
  {
   "cell_type": "code",
   "execution_count": 7,
   "metadata": {},
   "outputs": [
    {
     "data": {
      "text/html": [
       "<style  type=\"text/css\" >\n",
       "</style><table id=\"T_b1d5c95a_66ec_11ea_9455_534e57000000\" ><thead>    <tr>        <th class=\"blank level0\" ></th>        <th class=\"col_heading level0 col0\" >Percentage of Players</th>        <th class=\"col_heading level0 col1\" >Total Count</th>    </tr></thead><tbody>\n",
       "                <tr>\n",
       "                        <th id=\"T_b1d5c95a_66ec_11ea_9455_534e57000000level0_row0\" class=\"row_heading level0 row0\" ><10</th>\n",
       "                        <td id=\"T_b1d5c95a_66ec_11ea_9455_534e57000000row0_col0\" class=\"data row0 col0\" >2.95%</td>\n",
       "                        <td id=\"T_b1d5c95a_66ec_11ea_9455_534e57000000row0_col1\" class=\"data row0 col1\" >17</td>\n",
       "            </tr>\n",
       "            <tr>\n",
       "                        <th id=\"T_b1d5c95a_66ec_11ea_9455_534e57000000level0_row1\" class=\"row_heading level0 row1\" >10-14</th>\n",
       "                        <td id=\"T_b1d5c95a_66ec_11ea_9455_534e57000000row1_col0\" class=\"data row1 col0\" >3.82%</td>\n",
       "                        <td id=\"T_b1d5c95a_66ec_11ea_9455_534e57000000row1_col1\" class=\"data row1 col1\" >22</td>\n",
       "            </tr>\n",
       "            <tr>\n",
       "                        <th id=\"T_b1d5c95a_66ec_11ea_9455_534e57000000level0_row2\" class=\"row_heading level0 row2\" >15-19</th>\n",
       "                        <td id=\"T_b1d5c95a_66ec_11ea_9455_534e57000000row2_col0\" class=\"data row2 col0\" >18.58%</td>\n",
       "                        <td id=\"T_b1d5c95a_66ec_11ea_9455_534e57000000row2_col1\" class=\"data row2 col1\" >107</td>\n",
       "            </tr>\n",
       "            <tr>\n",
       "                        <th id=\"T_b1d5c95a_66ec_11ea_9455_534e57000000level0_row3\" class=\"row_heading level0 row3\" >20-24</th>\n",
       "                        <td id=\"T_b1d5c95a_66ec_11ea_9455_534e57000000row3_col0\" class=\"data row3 col0\" >44.79%</td>\n",
       "                        <td id=\"T_b1d5c95a_66ec_11ea_9455_534e57000000row3_col1\" class=\"data row3 col1\" >258</td>\n",
       "            </tr>\n",
       "            <tr>\n",
       "                        <th id=\"T_b1d5c95a_66ec_11ea_9455_534e57000000level0_row4\" class=\"row_heading level0 row4\" >25-29</th>\n",
       "                        <td id=\"T_b1d5c95a_66ec_11ea_9455_534e57000000row4_col0\" class=\"data row4 col0\" >13.37%</td>\n",
       "                        <td id=\"T_b1d5c95a_66ec_11ea_9455_534e57000000row4_col1\" class=\"data row4 col1\" >77</td>\n",
       "            </tr>\n",
       "            <tr>\n",
       "                        <th id=\"T_b1d5c95a_66ec_11ea_9455_534e57000000level0_row5\" class=\"row_heading level0 row5\" >30-34</th>\n",
       "                        <td id=\"T_b1d5c95a_66ec_11ea_9455_534e57000000row5_col0\" class=\"data row5 col0\" >9.03%</td>\n",
       "                        <td id=\"T_b1d5c95a_66ec_11ea_9455_534e57000000row5_col1\" class=\"data row5 col1\" >52</td>\n",
       "            </tr>\n",
       "            <tr>\n",
       "                        <th id=\"T_b1d5c95a_66ec_11ea_9455_534e57000000level0_row6\" class=\"row_heading level0 row6\" >35-39</th>\n",
       "                        <td id=\"T_b1d5c95a_66ec_11ea_9455_534e57000000row6_col0\" class=\"data row6 col0\" >5.38%</td>\n",
       "                        <td id=\"T_b1d5c95a_66ec_11ea_9455_534e57000000row6_col1\" class=\"data row6 col1\" >31</td>\n",
       "            </tr>\n",
       "            <tr>\n",
       "                        <th id=\"T_b1d5c95a_66ec_11ea_9455_534e57000000level0_row7\" class=\"row_heading level0 row7\" >40+</th>\n",
       "                        <td id=\"T_b1d5c95a_66ec_11ea_9455_534e57000000row7_col0\" class=\"data row7 col0\" >2.08%</td>\n",
       "                        <td id=\"T_b1d5c95a_66ec_11ea_9455_534e57000000row7_col1\" class=\"data row7 col1\" >12</td>\n",
       "            </tr>\n",
       "    </tbody></table>"
      ],
      "text/plain": [
       "<pandas.io.formats.style.Styler at 0x24f0fad3bc8>"
      ]
     },
     "execution_count": 7,
     "metadata": {},
     "output_type": "execute_result"
    }
   ],
   "source": [
    "age_bins = [0, 9.90, 14.90, 19.90, 24.90, 29.90, 34.90, 39.90, 99999]\n",
    "group_names = [\"<10\", \"10-14\", \"15-19\", \"20-24\", \"25-29\", \"30-34\", \"35-39\", \"40+\"]\n",
    "\n",
    "total_players = len(Heroes_of_pd[\"SN\"].unique())\n",
    "\n",
    "Heroes_of_pd[\"Age Group\"] = pd.cut(Heroes_of_pd[\"Age\"],age_bins, labels=group_names)\n",
    "Heroes_of_pd\n",
    "\n",
    "age_grouped = Heroes_of_pd.groupby(\"Age Group\")\n",
    "\n",
    "total_count_age = age_grouped[\"SN\"].nunique()\n",
    "\n",
    "percentage_by_age = (total_count_age/total_players) * 100\n",
    "\n",
    "age_demographics = pd.DataFrame({\"Percentage of Players\": percentage_by_age, \"Total Count\": total_count_age})\n",
    "\n",
    "age_demographics.index.name = None\n",
    "\n",
    " \n",
    "age_demographics.style.format({\"Percentage of Players\":\"{:,.2f}%\"})"
   ]
  },
  {
   "cell_type": "markdown",
   "metadata": {},
   "source": [
    "## Purchasing Analysis (Age)"
   ]
  },
  {
   "cell_type": "markdown",
   "metadata": {},
   "source": [
    "* Bin the purchase_data data frame by age\n",
    "\n",
    "\n",
    "* Run basic calculations to obtain purchase count, avg. purchase price, avg. purchase total per person etc. in the table below\n",
    "\n",
    "\n",
    "* Create a summary data frame to hold the results\n",
    "\n",
    "\n",
    "* Optional: give the displayed data cleaner formatting\n",
    "\n",
    "\n",
    "* Display the summary data frame"
   ]
  },
  {
   "cell_type": "code",
   "execution_count": 8,
   "metadata": {},
   "outputs": [
    {
     "data": {
      "text/html": [
       "<style  type=\"text/css\" >\n",
       "</style><table id=\"T_cf2691b4_66ec_11ea_bf77_534e57000000\" ><thead>    <tr>        <th class=\"blank level0\" ></th>        <th class=\"col_heading level0 col0\" >Purchase Count</th>        <th class=\"col_heading level0 col1\" >Average Purchase Price</th>        <th class=\"col_heading level0 col2\" >Total Purchase Value</th>        <th class=\"col_heading level0 col3\" >Average Purchase Total per Person</th>    </tr></thead><tbody>\n",
       "                <tr>\n",
       "                        <th id=\"T_cf2691b4_66ec_11ea_bf77_534e57000000level0_row0\" class=\"row_heading level0 row0\" ><10</th>\n",
       "                        <td id=\"T_cf2691b4_66ec_11ea_bf77_534e57000000row0_col0\" class=\"data row0 col0\" >23</td>\n",
       "                        <td id=\"T_cf2691b4_66ec_11ea_bf77_534e57000000row0_col1\" class=\"data row0 col1\" >$3.35</td>\n",
       "                        <td id=\"T_cf2691b4_66ec_11ea_bf77_534e57000000row0_col2\" class=\"data row0 col2\" >$77.13</td>\n",
       "                        <td id=\"T_cf2691b4_66ec_11ea_bf77_534e57000000row0_col3\" class=\"data row0 col3\" >$4.54</td>\n",
       "            </tr>\n",
       "            <tr>\n",
       "                        <th id=\"T_cf2691b4_66ec_11ea_bf77_534e57000000level0_row1\" class=\"row_heading level0 row1\" >10-14</th>\n",
       "                        <td id=\"T_cf2691b4_66ec_11ea_bf77_534e57000000row1_col0\" class=\"data row1 col0\" >28</td>\n",
       "                        <td id=\"T_cf2691b4_66ec_11ea_bf77_534e57000000row1_col1\" class=\"data row1 col1\" >$2.96</td>\n",
       "                        <td id=\"T_cf2691b4_66ec_11ea_bf77_534e57000000row1_col2\" class=\"data row1 col2\" >$82.78</td>\n",
       "                        <td id=\"T_cf2691b4_66ec_11ea_bf77_534e57000000row1_col3\" class=\"data row1 col3\" >$3.76</td>\n",
       "            </tr>\n",
       "            <tr>\n",
       "                        <th id=\"T_cf2691b4_66ec_11ea_bf77_534e57000000level0_row2\" class=\"row_heading level0 row2\" >15-19</th>\n",
       "                        <td id=\"T_cf2691b4_66ec_11ea_bf77_534e57000000row2_col0\" class=\"data row2 col0\" >136</td>\n",
       "                        <td id=\"T_cf2691b4_66ec_11ea_bf77_534e57000000row2_col1\" class=\"data row2 col1\" >$3.04</td>\n",
       "                        <td id=\"T_cf2691b4_66ec_11ea_bf77_534e57000000row2_col2\" class=\"data row2 col2\" >$412.89</td>\n",
       "                        <td id=\"T_cf2691b4_66ec_11ea_bf77_534e57000000row2_col3\" class=\"data row2 col3\" >$3.86</td>\n",
       "            </tr>\n",
       "            <tr>\n",
       "                        <th id=\"T_cf2691b4_66ec_11ea_bf77_534e57000000level0_row3\" class=\"row_heading level0 row3\" >20-24</th>\n",
       "                        <td id=\"T_cf2691b4_66ec_11ea_bf77_534e57000000row3_col0\" class=\"data row3 col0\" >365</td>\n",
       "                        <td id=\"T_cf2691b4_66ec_11ea_bf77_534e57000000row3_col1\" class=\"data row3 col1\" >$3.05</td>\n",
       "                        <td id=\"T_cf2691b4_66ec_11ea_bf77_534e57000000row3_col2\" class=\"data row3 col2\" >$1,114.06</td>\n",
       "                        <td id=\"T_cf2691b4_66ec_11ea_bf77_534e57000000row3_col3\" class=\"data row3 col3\" >$4.32</td>\n",
       "            </tr>\n",
       "            <tr>\n",
       "                        <th id=\"T_cf2691b4_66ec_11ea_bf77_534e57000000level0_row4\" class=\"row_heading level0 row4\" >25-29</th>\n",
       "                        <td id=\"T_cf2691b4_66ec_11ea_bf77_534e57000000row4_col0\" class=\"data row4 col0\" >101</td>\n",
       "                        <td id=\"T_cf2691b4_66ec_11ea_bf77_534e57000000row4_col1\" class=\"data row4 col1\" >$2.90</td>\n",
       "                        <td id=\"T_cf2691b4_66ec_11ea_bf77_534e57000000row4_col2\" class=\"data row4 col2\" >$293.00</td>\n",
       "                        <td id=\"T_cf2691b4_66ec_11ea_bf77_534e57000000row4_col3\" class=\"data row4 col3\" >$3.81</td>\n",
       "            </tr>\n",
       "            <tr>\n",
       "                        <th id=\"T_cf2691b4_66ec_11ea_bf77_534e57000000level0_row5\" class=\"row_heading level0 row5\" >30-34</th>\n",
       "                        <td id=\"T_cf2691b4_66ec_11ea_bf77_534e57000000row5_col0\" class=\"data row5 col0\" >73</td>\n",
       "                        <td id=\"T_cf2691b4_66ec_11ea_bf77_534e57000000row5_col1\" class=\"data row5 col1\" >$2.93</td>\n",
       "                        <td id=\"T_cf2691b4_66ec_11ea_bf77_534e57000000row5_col2\" class=\"data row5 col2\" >$214.00</td>\n",
       "                        <td id=\"T_cf2691b4_66ec_11ea_bf77_534e57000000row5_col3\" class=\"data row5 col3\" >$4.12</td>\n",
       "            </tr>\n",
       "            <tr>\n",
       "                        <th id=\"T_cf2691b4_66ec_11ea_bf77_534e57000000level0_row6\" class=\"row_heading level0 row6\" >35-39</th>\n",
       "                        <td id=\"T_cf2691b4_66ec_11ea_bf77_534e57000000row6_col0\" class=\"data row6 col0\" >41</td>\n",
       "                        <td id=\"T_cf2691b4_66ec_11ea_bf77_534e57000000row6_col1\" class=\"data row6 col1\" >$3.60</td>\n",
       "                        <td id=\"T_cf2691b4_66ec_11ea_bf77_534e57000000row6_col2\" class=\"data row6 col2\" >$147.67</td>\n",
       "                        <td id=\"T_cf2691b4_66ec_11ea_bf77_534e57000000row6_col3\" class=\"data row6 col3\" >$4.76</td>\n",
       "            </tr>\n",
       "            <tr>\n",
       "                        <th id=\"T_cf2691b4_66ec_11ea_bf77_534e57000000level0_row7\" class=\"row_heading level0 row7\" >40+</th>\n",
       "                        <td id=\"T_cf2691b4_66ec_11ea_bf77_534e57000000row7_col0\" class=\"data row7 col0\" >13</td>\n",
       "                        <td id=\"T_cf2691b4_66ec_11ea_bf77_534e57000000row7_col1\" class=\"data row7 col1\" >$2.94</td>\n",
       "                        <td id=\"T_cf2691b4_66ec_11ea_bf77_534e57000000row7_col2\" class=\"data row7 col2\" >$38.24</td>\n",
       "                        <td id=\"T_cf2691b4_66ec_11ea_bf77_534e57000000row7_col3\" class=\"data row7 col3\" >$3.19</td>\n",
       "            </tr>\n",
       "    </tbody></table>"
      ],
      "text/plain": [
       "<pandas.io.formats.style.Styler at 0x24f0fb89a48>"
      ]
     },
     "execution_count": 8,
     "metadata": {},
     "output_type": "execute_result"
    }
   ],
   "source": [
    "purchase_count_age = age_grouped[\"Purchase ID\"].count()\n",
    "\n",
    "avg_purchase_price_age = age_grouped[\"Price\"].mean()\n",
    "\n",
    "total_purchase_value = age_grouped[\"Price\"].sum()\n",
    " \n",
    "avg_purchase_per_person_age = total_purchase_value/total_count_age\n",
    "\n",
    "age_demographics = pd.DataFrame({\"Purchase Count\": purchase_count_age,\n",
    "                                 \"Average Purchase Price\": avg_purchase_price_age,\n",
    "                                 \"Total Purchase Value\":total_purchase_value,\n",
    "                                 \"Average Purchase Total per Person\": avg_purchase_per_person_age})\n",
    "age_demographics.index.name = None\n",
    "\n",
    "age_demographics.style.format({\"Average Purchase Price\":\"${:,.2f}\",\n",
    "                               \"Total Purchase Value\":\"${:,.2f}\",\n",
    "                               \"Average Purchase Total per Person\":\"${:,.2f}\"})"
   ]
  },
  {
   "cell_type": "markdown",
   "metadata": {},
   "source": [
    "## Top Spenders"
   ]
  },
  {
   "cell_type": "markdown",
   "metadata": {},
   "source": [
    "* Run basic calculations to obtain the results in the table below\n",
    "\n",
    "\n",
    "* Create a summary data frame to hold the results\n",
    "\n",
    "\n",
    "* Sort the total purchase value column in descending order\n",
    "\n",
    "\n",
    "* Optional: give the displayed data cleaner formatting\n",
    "\n",
    "\n",
    "* Display a preview of the summary data frame\n",
    "\n"
   ]
  },
  {
   "cell_type": "code",
   "execution_count": 9,
   "metadata": {},
   "outputs": [
    {
     "data": {
      "text/html": [
       "<style  type=\"text/css\" >\n",
       "</style><table id=\"T_d7e2f39a_66ec_11ea_8157_534e57000000\" ><thead>    <tr>        <th class=\"blank level0\" ></th>        <th class=\"col_heading level0 col0\" >Purchase Count</th>        <th class=\"col_heading level0 col1\" >Average Purchase Price</th>        <th class=\"col_heading level0 col2\" >Total Purchase Value</th>    </tr>    <tr>        <th class=\"index_name level0\" >SN</th>        <th class=\"blank\" ></th>        <th class=\"blank\" ></th>        <th class=\"blank\" ></th>    </tr></thead><tbody>\n",
       "                <tr>\n",
       "                        <th id=\"T_d7e2f39a_66ec_11ea_8157_534e57000000level0_row0\" class=\"row_heading level0 row0\" >Lisosia93</th>\n",
       "                        <td id=\"T_d7e2f39a_66ec_11ea_8157_534e57000000row0_col0\" class=\"data row0 col0\" >5</td>\n",
       "                        <td id=\"T_d7e2f39a_66ec_11ea_8157_534e57000000row0_col1\" class=\"data row0 col1\" >$3.79</td>\n",
       "                        <td id=\"T_d7e2f39a_66ec_11ea_8157_534e57000000row0_col2\" class=\"data row0 col2\" >$18.96</td>\n",
       "            </tr>\n",
       "            <tr>\n",
       "                        <th id=\"T_d7e2f39a_66ec_11ea_8157_534e57000000level0_row1\" class=\"row_heading level0 row1\" >Idastidru52</th>\n",
       "                        <td id=\"T_d7e2f39a_66ec_11ea_8157_534e57000000row1_col0\" class=\"data row1 col0\" >4</td>\n",
       "                        <td id=\"T_d7e2f39a_66ec_11ea_8157_534e57000000row1_col1\" class=\"data row1 col1\" >$3.86</td>\n",
       "                        <td id=\"T_d7e2f39a_66ec_11ea_8157_534e57000000row1_col2\" class=\"data row1 col2\" >$15.45</td>\n",
       "            </tr>\n",
       "            <tr>\n",
       "                        <th id=\"T_d7e2f39a_66ec_11ea_8157_534e57000000level0_row2\" class=\"row_heading level0 row2\" >Chamjask73</th>\n",
       "                        <td id=\"T_d7e2f39a_66ec_11ea_8157_534e57000000row2_col0\" class=\"data row2 col0\" >3</td>\n",
       "                        <td id=\"T_d7e2f39a_66ec_11ea_8157_534e57000000row2_col1\" class=\"data row2 col1\" >$4.61</td>\n",
       "                        <td id=\"T_d7e2f39a_66ec_11ea_8157_534e57000000row2_col2\" class=\"data row2 col2\" >$13.83</td>\n",
       "            </tr>\n",
       "            <tr>\n",
       "                        <th id=\"T_d7e2f39a_66ec_11ea_8157_534e57000000level0_row3\" class=\"row_heading level0 row3\" >Iral74</th>\n",
       "                        <td id=\"T_d7e2f39a_66ec_11ea_8157_534e57000000row3_col0\" class=\"data row3 col0\" >4</td>\n",
       "                        <td id=\"T_d7e2f39a_66ec_11ea_8157_534e57000000row3_col1\" class=\"data row3 col1\" >$3.40</td>\n",
       "                        <td id=\"T_d7e2f39a_66ec_11ea_8157_534e57000000row3_col2\" class=\"data row3 col2\" >$13.62</td>\n",
       "            </tr>\n",
       "            <tr>\n",
       "                        <th id=\"T_d7e2f39a_66ec_11ea_8157_534e57000000level0_row4\" class=\"row_heading level0 row4\" >Iskadarya95</th>\n",
       "                        <td id=\"T_d7e2f39a_66ec_11ea_8157_534e57000000row4_col0\" class=\"data row4 col0\" >3</td>\n",
       "                        <td id=\"T_d7e2f39a_66ec_11ea_8157_534e57000000row4_col1\" class=\"data row4 col1\" >$4.37</td>\n",
       "                        <td id=\"T_d7e2f39a_66ec_11ea_8157_534e57000000row4_col2\" class=\"data row4 col2\" >$13.10</td>\n",
       "            </tr>\n",
       "    </tbody></table>"
      ],
      "text/plain": [
       "<pandas.io.formats.style.Styler at 0x24f104a1448>"
      ]
     },
     "execution_count": 9,
     "metadata": {},
     "output_type": "execute_result"
    }
   ],
   "source": [
    "spender_stats = Heroes_of_pd.groupby(\"SN\")\n",
    "\n",
    "purchase_count_spender = spender_stats[\"Purchase ID\"].count()\n",
    " \n",
    "avg_purchase_price_spender = spender_stats[\"Price\"].mean()\n",
    "\n",
    "purchase_total_spender = spender_stats[\"Price\"].sum()\n",
    "\n",
    "top_spenders = pd.DataFrame({\"Purchase Count\": purchase_count_spender,\n",
    "                             \"Average Purchase Price\": avg_purchase_price_spender,\n",
    "                             \"Total Purchase Value\":purchase_total_spender})\n",
    "\n",
    "format_spenders = top_spenders.sort_values([\"Total Purchase Value\"], ascending=False).head()\n",
    "\n",
    "# Format with currency style\n",
    "format_spenders.style.format({\"Average Purchase Total\":\"${:,.2f}\",\n",
    "                              \"Average Purchase Price\":\"${:,.2f}\", \n",
    "                              \"Total Purchase Value\":\"${:,.2f}\"\n",
    "                             })\n",
    "\n"
   ]
  },
  {
   "cell_type": "markdown",
   "metadata": {},
   "source": [
    "## Most Popular Items"
   ]
  },
  {
   "cell_type": "markdown",
   "metadata": {},
   "source": [
    "* Retrieve the Item ID, Item Name, and Item Price columns\n",
    "\n",
    "\n",
    "* Group by Item ID and Item Name. Perform calculations to obtain purchase count, item price, and total purchase value\n",
    "\n",
    "\n",
    "* Create a summary data frame to hold the results\n",
    "\n",
    "\n",
    "* Sort the purchase count column in descending order\n",
    "\n",
    "\n",
    "* Optional: give the displayed data cleaner formatting\n",
    "\n",
    "\n",
    "* Display a preview of the summary data frame\n",
    "\n"
   ]
  },
  {
   "cell_type": "code",
   "execution_count": 10,
   "metadata": {},
   "outputs": [
    {
     "data": {
      "text/html": [
       "<style  type=\"text/css\" >\n",
       "</style><table id=\"T_e6dab3a2_66ec_11ea_ae61_534e57000000\" ><thead>    <tr>        <th class=\"blank\" ></th>        <th class=\"blank level0\" ></th>        <th class=\"col_heading level0 col0\" >Purchase Count</th>        <th class=\"col_heading level0 col1\" >Item Price</th>        <th class=\"col_heading level0 col2\" >Total Purchase Value</th>    </tr>    <tr>        <th class=\"index_name level0\" >Item ID</th>        <th class=\"index_name level1\" >Item Name</th>        <th class=\"blank\" ></th>        <th class=\"blank\" ></th>        <th class=\"blank\" ></th>    </tr></thead><tbody>\n",
       "                <tr>\n",
       "                        <th id=\"T_e6dab3a2_66ec_11ea_ae61_534e57000000level0_row0\" class=\"row_heading level0 row0\" >178</th>\n",
       "                        <th id=\"T_e6dab3a2_66ec_11ea_ae61_534e57000000level1_row0\" class=\"row_heading level1 row0\" >Oathbreaker, Last Hope of the Breaking Storm</th>\n",
       "                        <td id=\"T_e6dab3a2_66ec_11ea_ae61_534e57000000row0_col0\" class=\"data row0 col0\" >12</td>\n",
       "                        <td id=\"T_e6dab3a2_66ec_11ea_ae61_534e57000000row0_col1\" class=\"data row0 col1\" >$4.23</td>\n",
       "                        <td id=\"T_e6dab3a2_66ec_11ea_ae61_534e57000000row0_col2\" class=\"data row0 col2\" >$50.76</td>\n",
       "            </tr>\n",
       "            <tr>\n",
       "                        <th id=\"T_e6dab3a2_66ec_11ea_ae61_534e57000000level0_row1\" class=\"row_heading level0 row1\" >145</th>\n",
       "                        <th id=\"T_e6dab3a2_66ec_11ea_ae61_534e57000000level1_row1\" class=\"row_heading level1 row1\" >Fiery Glass Crusader</th>\n",
       "                        <td id=\"T_e6dab3a2_66ec_11ea_ae61_534e57000000row1_col0\" class=\"data row1 col0\" >9</td>\n",
       "                        <td id=\"T_e6dab3a2_66ec_11ea_ae61_534e57000000row1_col1\" class=\"data row1 col1\" >$4.58</td>\n",
       "                        <td id=\"T_e6dab3a2_66ec_11ea_ae61_534e57000000row1_col2\" class=\"data row1 col2\" >$41.22</td>\n",
       "            </tr>\n",
       "            <tr>\n",
       "                        <th id=\"T_e6dab3a2_66ec_11ea_ae61_534e57000000level0_row2\" class=\"row_heading level0 row2\" >108</th>\n",
       "                        <th id=\"T_e6dab3a2_66ec_11ea_ae61_534e57000000level1_row2\" class=\"row_heading level1 row2\" >Extraction, Quickblade Of Trembling Hands</th>\n",
       "                        <td id=\"T_e6dab3a2_66ec_11ea_ae61_534e57000000row2_col0\" class=\"data row2 col0\" >9</td>\n",
       "                        <td id=\"T_e6dab3a2_66ec_11ea_ae61_534e57000000row2_col1\" class=\"data row2 col1\" >$3.53</td>\n",
       "                        <td id=\"T_e6dab3a2_66ec_11ea_ae61_534e57000000row2_col2\" class=\"data row2 col2\" >$31.77</td>\n",
       "            </tr>\n",
       "            <tr>\n",
       "                        <th id=\"T_e6dab3a2_66ec_11ea_ae61_534e57000000level0_row3\" class=\"row_heading level0 row3\" >82</th>\n",
       "                        <th id=\"T_e6dab3a2_66ec_11ea_ae61_534e57000000level1_row3\" class=\"row_heading level1 row3\" >Nirvana</th>\n",
       "                        <td id=\"T_e6dab3a2_66ec_11ea_ae61_534e57000000row3_col0\" class=\"data row3 col0\" >9</td>\n",
       "                        <td id=\"T_e6dab3a2_66ec_11ea_ae61_534e57000000row3_col1\" class=\"data row3 col1\" >$4.90</td>\n",
       "                        <td id=\"T_e6dab3a2_66ec_11ea_ae61_534e57000000row3_col2\" class=\"data row3 col2\" >$44.10</td>\n",
       "            </tr>\n",
       "            <tr>\n",
       "                        <th id=\"T_e6dab3a2_66ec_11ea_ae61_534e57000000level0_row4\" class=\"row_heading level0 row4\" >19</th>\n",
       "                        <th id=\"T_e6dab3a2_66ec_11ea_ae61_534e57000000level1_row4\" class=\"row_heading level1 row4\" >Pursuit, Cudgel of Necromancy</th>\n",
       "                        <td id=\"T_e6dab3a2_66ec_11ea_ae61_534e57000000row4_col0\" class=\"data row4 col0\" >8</td>\n",
       "                        <td id=\"T_e6dab3a2_66ec_11ea_ae61_534e57000000row4_col1\" class=\"data row4 col1\" >$1.02</td>\n",
       "                        <td id=\"T_e6dab3a2_66ec_11ea_ae61_534e57000000row4_col2\" class=\"data row4 col2\" >$8.16</td>\n",
       "            </tr>\n",
       "    </tbody></table>"
      ],
      "text/plain": [
       "<pandas.io.formats.style.Styler at 0x24f0fb72588>"
      ]
     },
     "execution_count": 10,
     "metadata": {},
     "output_type": "execute_result"
    }
   ],
   "source": [
    "items = Heroes_of_pd[[\"Item ID\", \"Item Name\", \"Price\"]]\n",
    "\n",
    "item_stats = items.groupby([\"Item ID\",\"Item Name\"])\n",
    "\n",
    "purchase_count_item = item_stats[\"Price\"].count()\n",
    "\n",
    "purchase_value = (item_stats[\"Price\"].sum()) \n",
    "\n",
    "item_price = purchase_value/purchase_count_item\n",
    "\n",
    "most_popular_items = pd.DataFrame({\"Purchase Count\": purchase_count_item, \n",
    "                                   \"Item Price\": item_price,\n",
    "                                   \"Total Purchase Value\":purchase_value})\n",
    "\n",
    "popular_formatted = most_popular_items.sort_values([\"Purchase Count\"], ascending=False).head()\n",
    "\n",
    "popular_formatted.style.format({\"Item Price\":\"${:,.2f}\",\n",
    "                                \"Total Purchase Value\":\"${:,.2f}\"})\n",
    "\n"
   ]
  },
  {
   "cell_type": "markdown",
   "metadata": {},
   "source": [
    "## Most Profitable Items"
   ]
  },
  {
   "cell_type": "markdown",
   "metadata": {},
   "source": [
    "* Sort the above table by total purchase value in descending order\n",
    "\n",
    "\n",
    "* Optional: give the displayed data cleaner formatting\n",
    "\n",
    "\n",
    "* Display a preview of the data frame\n",
    "\n"
   ]
  },
  {
   "cell_type": "code",
   "execution_count": 11,
   "metadata": {
    "scrolled": true
   },
   "outputs": [
    {
     "data": {
      "text/html": [
       "<style  type=\"text/css\" >\n",
       "</style><table id=\"T_ee6486a4_66ec_11ea_8cfe_534e57000000\" ><thead>    <tr>        <th class=\"blank\" ></th>        <th class=\"blank level0\" ></th>        <th class=\"col_heading level0 col0\" >Purchase Count</th>        <th class=\"col_heading level0 col1\" >Item Price</th>        <th class=\"col_heading level0 col2\" >Total Purchase Value</th>    </tr>    <tr>        <th class=\"index_name level0\" >Item ID</th>        <th class=\"index_name level1\" >Item Name</th>        <th class=\"blank\" ></th>        <th class=\"blank\" ></th>        <th class=\"blank\" ></th>    </tr></thead><tbody>\n",
       "                <tr>\n",
       "                        <th id=\"T_ee6486a4_66ec_11ea_8cfe_534e57000000level0_row0\" class=\"row_heading level0 row0\" >178</th>\n",
       "                        <th id=\"T_ee6486a4_66ec_11ea_8cfe_534e57000000level1_row0\" class=\"row_heading level1 row0\" >Oathbreaker, Last Hope of the Breaking Storm</th>\n",
       "                        <td id=\"T_ee6486a4_66ec_11ea_8cfe_534e57000000row0_col0\" class=\"data row0 col0\" >12</td>\n",
       "                        <td id=\"T_ee6486a4_66ec_11ea_8cfe_534e57000000row0_col1\" class=\"data row0 col1\" >$4.23</td>\n",
       "                        <td id=\"T_ee6486a4_66ec_11ea_8cfe_534e57000000row0_col2\" class=\"data row0 col2\" >$50.76</td>\n",
       "            </tr>\n",
       "            <tr>\n",
       "                        <th id=\"T_ee6486a4_66ec_11ea_8cfe_534e57000000level0_row1\" class=\"row_heading level0 row1\" >82</th>\n",
       "                        <th id=\"T_ee6486a4_66ec_11ea_8cfe_534e57000000level1_row1\" class=\"row_heading level1 row1\" >Nirvana</th>\n",
       "                        <td id=\"T_ee6486a4_66ec_11ea_8cfe_534e57000000row1_col0\" class=\"data row1 col0\" >9</td>\n",
       "                        <td id=\"T_ee6486a4_66ec_11ea_8cfe_534e57000000row1_col1\" class=\"data row1 col1\" >$4.90</td>\n",
       "                        <td id=\"T_ee6486a4_66ec_11ea_8cfe_534e57000000row1_col2\" class=\"data row1 col2\" >$44.10</td>\n",
       "            </tr>\n",
       "            <tr>\n",
       "                        <th id=\"T_ee6486a4_66ec_11ea_8cfe_534e57000000level0_row2\" class=\"row_heading level0 row2\" >145</th>\n",
       "                        <th id=\"T_ee6486a4_66ec_11ea_8cfe_534e57000000level1_row2\" class=\"row_heading level1 row2\" >Fiery Glass Crusader</th>\n",
       "                        <td id=\"T_ee6486a4_66ec_11ea_8cfe_534e57000000row2_col0\" class=\"data row2 col0\" >9</td>\n",
       "                        <td id=\"T_ee6486a4_66ec_11ea_8cfe_534e57000000row2_col1\" class=\"data row2 col1\" >$4.58</td>\n",
       "                        <td id=\"T_ee6486a4_66ec_11ea_8cfe_534e57000000row2_col2\" class=\"data row2 col2\" >$41.22</td>\n",
       "            </tr>\n",
       "            <tr>\n",
       "                        <th id=\"T_ee6486a4_66ec_11ea_8cfe_534e57000000level0_row3\" class=\"row_heading level0 row3\" >92</th>\n",
       "                        <th id=\"T_ee6486a4_66ec_11ea_8cfe_534e57000000level1_row3\" class=\"row_heading level1 row3\" >Final Critic</th>\n",
       "                        <td id=\"T_ee6486a4_66ec_11ea_8cfe_534e57000000row3_col0\" class=\"data row3 col0\" >8</td>\n",
       "                        <td id=\"T_ee6486a4_66ec_11ea_8cfe_534e57000000row3_col1\" class=\"data row3 col1\" >$4.88</td>\n",
       "                        <td id=\"T_ee6486a4_66ec_11ea_8cfe_534e57000000row3_col2\" class=\"data row3 col2\" >$39.04</td>\n",
       "            </tr>\n",
       "            <tr>\n",
       "                        <th id=\"T_ee6486a4_66ec_11ea_8cfe_534e57000000level0_row4\" class=\"row_heading level0 row4\" >103</th>\n",
       "                        <th id=\"T_ee6486a4_66ec_11ea_8cfe_534e57000000level1_row4\" class=\"row_heading level1 row4\" >Singed Scalpel</th>\n",
       "                        <td id=\"T_ee6486a4_66ec_11ea_8cfe_534e57000000row4_col0\" class=\"data row4 col0\" >8</td>\n",
       "                        <td id=\"T_ee6486a4_66ec_11ea_8cfe_534e57000000row4_col1\" class=\"data row4 col1\" >$4.35</td>\n",
       "                        <td id=\"T_ee6486a4_66ec_11ea_8cfe_534e57000000row4_col2\" class=\"data row4 col2\" >$34.80</td>\n",
       "            </tr>\n",
       "    </tbody></table>"
      ],
      "text/plain": [
       "<pandas.io.formats.style.Styler at 0x24f10485c08>"
      ]
     },
     "execution_count": 11,
     "metadata": {},
     "output_type": "execute_result"
    }
   ],
   "source": [
    "popular_formatted = most_popular_items.sort_values([\"Total Purchase Value\"],\n",
    "                                                   ascending=False).head()\n",
    "popular_formatted.style.format({\"Item Price\":\"${:,.2f}\",\n",
    "                                \"Total Purchase Value\":\"${:,.2f}\"})"
   ]
  },
  {
   "cell_type": "code",
   "execution_count": null,
   "metadata": {},
   "outputs": [],
   "source": []
  }
 ],
 "metadata": {
  "anaconda-cloud": {},
  "kernel_info": {
   "name": "python3"
  },
  "kernelspec": {
   "display_name": "Python 3",
   "language": "python",
   "name": "python3"
  },
  "language_info": {
   "codemirror_mode": {
    "name": "ipython",
    "version": 3
   },
   "file_extension": ".py",
   "mimetype": "text/x-python",
   "name": "python",
   "nbconvert_exporter": "python",
   "pygments_lexer": "ipython3",
   "version": "3.7.4"
  },
  "latex_envs": {
   "LaTeX_envs_menu_present": true,
   "autoclose": false,
   "autocomplete": true,
   "bibliofile": "biblio.bib",
   "cite_by": "apalike",
   "current_citInitial": 1,
   "eqLabelWithNumbers": true,
   "eqNumInitial": 1,
   "hotkeys": {
    "equation": "Ctrl-E",
    "itemize": "Ctrl-I"
   },
   "labels_anchors": false,
   "latex_user_defs": false,
   "report_style_numbering": false,
   "user_envs_cfg": false
  },
  "nteract": {
   "version": "0.2.0"
  }
 },
 "nbformat": 4,
 "nbformat_minor": 2
}
